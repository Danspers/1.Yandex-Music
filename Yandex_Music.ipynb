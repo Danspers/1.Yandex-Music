{
 "cells": [
  {
   "cell_type": "markdown",
   "metadata": {
    "deletable": false,
    "editable": false,
    "id": "E0vqbgi9ay0H"
   },
   "source": [
    "# Яндекс Музыка"
   ]
  },
  {
   "cell_type": "markdown",
   "metadata": {
    "deletable": false,
    "editable": false,
    "id": "VUC88oWjTJw2"
   },
   "source": [
    "Сравнение Москвы и Петербурга окружено мифами. Например:\n",
    " * Москва — мегаполис, подчинённый жёсткому ритму рабочей недели;\n",
    " * Петербург — культурная столица, со своими вкусами.\n",
    "\n",
    "**Цель исследования** — проверить три гипотезы:\n",
    "1. Активность пользователей зависит от дня недели. Причём в Москве и Петербурге это проявляется по-разному.\n",
    "2. В понедельник утром в Москве преобладают одни жанры, а в Петербурге — другие. Так же и вечером пятницы преобладают разные жанры — в зависимости от города. \n",
    "3. Москва и Петербург предпочитают разные жанры музыки. В Москве чаще слушают поп-музыку, в Петербурге — русский рэп.\n",
    "\n",
    "**Ход исследования**\n",
    "\n",
    "Данные Яндекс Музыки о поведении пользователей находятся в файле `yandex_music_project.csv`. О качестве данных ничего не известно. Поэтому перед проверкой гипотез понадобится обзор данных. \n",
    "\n",
    "Необходимо проверить данные на ошибки и оцените их влияние на исследование. Затем, на этапе предобработки необходимо найти возможность исправить самые критичные ошибки данных.\n",
    " \n",
    "Таким образом, исследование пройдёт в четыре этапа:\n",
    " 1. [Обзор данных](#section_1).\n",
    " 2. [Предобработка данных](#section_2).\n",
    " 3. [Проверка гипотез](#section_3).\n",
    " 4. [Итоги исследования](#section_4).\n",
    "\n"
   ]
  },
  {
   "cell_type": "markdown",
   "metadata": {
    "deletable": false,
    "editable": false,
    "id": "Ml1hmfXC_Zcs"
   },
   "source": [
    "<a id='section_1'></a>\n",
    "## Обзор данных\n",
    "\n",
    "\n"
   ]
  },
  {
   "cell_type": "markdown",
   "metadata": {
    "deletable": false,
    "editable": false,
    "id": "57eAOGIz_Zcs",
    "tags": [
     "start_task"
    ]
   },
   "source": [
    "\n",
    "Импорт основного инструмента — библиотеки `pandas`"
   ]
  },
  {
   "cell_type": "code",
   "execution_count": null,
   "metadata": {
    "deletable": false,
    "id": "AXN7PHPN_Zcs"
   },
   "outputs": [],
   "source": [
    "import pandas as pd"
   ]
  },
  {
   "cell_type": "markdown",
   "metadata": {
    "deletable": false,
    "editable": false,
    "id": "SG23P8tt_Zcs",
    "tags": [
     "start_task"
    ]
   },
   "source": [
    "Чтение файл `yandex_music_project.csv` из папки `/datasets` и сохранение его в переменной `df`:"
   ]
  },
  {
   "cell_type": "code",
   "execution_count": null,
   "metadata": {
    "deletable": false,
    "id": "fFVu7vqh_Zct"
   },
   "outputs": [],
   "source": [
    "df = pd.read_csv('/datasets/yandex_music_project.csv')"
   ]
  },
  {
   "cell_type": "markdown",
   "metadata": {
    "deletable": false,
    "editable": false,
    "id": "rDoOMd3uTqnZ",
    "tags": [
     "start_task"
    ]
   },
   "source": [
    "Вывод на экран первые десять строк таблицы:"
   ]
  },
  {
   "cell_type": "code",
   "execution_count": null,
   "metadata": {
    "deletable": false,
    "id": "oWTVX3gW_Zct",
    "outputId": "44fae8e8-21d1-47ac-9e0a-b1c3e0ccf7da"
   },
   "outputs": [
    {
     "name": "stdout",
     "output_type": "stream",
     "text": [
      "    user_id                        track            artist   genre  \\\n",
      "0  FFB692EC            Kamigata To Boots  The Mass Missile    rock   \n",
      "1  55204538  Delayed Because of Accident  Andreas Rönnberg    rock   \n",
      "2    20EC38            Funiculì funiculà       Mario Lanza     pop   \n",
      "3  A3DD03C9        Dragons in the Sunset        Fire + Ice    folk   \n",
      "4  E2DC1FAE                  Soul People        Space Echo   dance   \n",
      "5  842029A1                    Преданная         IMPERVTOR  rusrap   \n",
      "6  4CB90AA5                         True      Roman Messer   dance   \n",
      "7  F03E1C1F             Feeling This Way   Polina Griffith   dance   \n",
      "8  8FA1D3BE     И вновь продолжается бой           unknown  ruspop   \n",
      "9  E772D5C0                    Pessimist           unknown   dance   \n",
      "\n",
      "               city      time        day  \n",
      "0  Saint-Petersburg  20:28:33  Wednesday  \n",
      "1            Moscow  14:07:09     Friday  \n",
      "2  Saint-Petersburg  20:58:07  Wednesday  \n",
      "3  Saint-Petersburg  08:37:09     Monday  \n",
      "4            Moscow  08:34:34     Monday  \n",
      "5  Saint-Petersburg  13:09:41     Friday  \n",
      "6            Moscow  13:00:07  Wednesday  \n",
      "7            Moscow  20:47:49  Wednesday  \n",
      "8            Moscow  09:17:40     Friday  \n",
      "9  Saint-Petersburg  21:20:49  Wednesday  \n"
     ]
    }
   ],
   "source": [
    "print(df.head(10))"
   ]
  },
  {
   "cell_type": "markdown",
   "metadata": {
    "deletable": false,
    "editable": false,
    "id": "TaQ2Iwbr_Zct"
   },
   "source": [
    "Описание данных (согласно документации):\n",
    "* `userID` — идентификатор пользователя;\n",
    "* `Track` — название трека;  \n",
    "* `artist` — имя исполнителя;\n",
    "* `genre` — название жанра;\n",
    "* `City` — город пользователя;\n",
    "* `time` — время начала прослушивания;\n",
    "* `Day` — день недели."
   ]
  },
  {
   "cell_type": "markdown",
   "metadata": {
    "deletable": false,
    "editable": false,
    "id": "EO73Kwic_Zct",
    "tags": [
     "start_task"
    ]
   },
   "source": [
    "Получение общей информацию о таблице c помощью метода `info()`"
   ]
  },
  {
   "cell_type": "code",
   "execution_count": null,
   "metadata": {
    "deletable": false,
    "id": "DSf2kIb-_Zct",
    "outputId": "e0afa856-428b-4083-e6ab-5bcfe80c929d"
   },
   "outputs": [
    {
     "name": "stdout",
     "output_type": "stream",
     "text": [
      "<class 'pandas.core.frame.DataFrame'>\n",
      "RangeIndex: 65079 entries, 0 to 65078\n",
      "Data columns (total 7 columns):\n",
      " #   Column    Non-Null Count  Dtype \n",
      "---  ------    --------------  ----- \n",
      " 0     userID  65079 non-null  object\n",
      " 1   Track     63848 non-null  object\n",
      " 2   artist    57876 non-null  object\n",
      " 3   genre     63881 non-null  object\n",
      " 4     City    65079 non-null  object\n",
      " 5   time      65079 non-null  object\n",
      " 6   Day       65079 non-null  object\n",
      "dtypes: object(7)\n",
      "memory usage: 3.5+ MB\n"
     ]
    }
   ],
   "source": [
    "df.info()"
   ]
  },
  {
   "cell_type": "markdown",
   "metadata": {
    "deletable": false,
    "editable": false,
    "id": "MCB6-dXG_Zct"
   },
   "source": [
    "**Выводы:**\n",
    "\n",
    "В таблице семь столбцов. Тип данных во всех столбцах — `object`. Количество значений в столбцах различается. Значит, в данных есть пропущенные значения.\n",
    "\n",
    "В названиях колонок видны **нарушения стиля**:\n",
    "* Строчные буквы сочетаются с прописными.\n",
    "* Встречаются пробелы.\n",
    "* Название колонки `userID` следует переписать в \"_змеином_регистре_\".\n",
    "\n",
    "В каждой строке таблицы — данные о прослушанном треке. Часть колонок описывает саму композицию: название, исполнителя и жанр. Остальные данные рассказывают о пользователе: из какого он города, когда он слушал музыку. \n",
    "\n",
    "Предварительно можно утверждать, что данных достаточно для проверки гипотез. Но встречаются **пропуски** в данных, а в названиях колонок — расхождения с хорошим стилем.\n",
    "\n",
    "Чтобы двигаться дальше, нужно устранить проблемы в данных."
   ]
  },
  {
   "cell_type": "markdown",
   "metadata": {
    "deletable": false,
    "editable": false,
    "id": "SjYF6Ub9_Zct"
   },
   "source": [
    "<a id='section_2'></a>\n",
    "## Предобработка данных\n",
    "\n",
    "Необходимо исправить стиль в заголовках столбцов, исключить пропуски. Затем проверите данные на дубликаты."
   ]
  },
  {
   "cell_type": "markdown",
   "metadata": {
    "deletable": false,
    "editable": false,
    "id": "dIaKXr29_Zct",
    "tags": [
     "start_task"
    ]
   },
   "source": [
    "### Стиль заголовков\n",
    "\n",
    "Исходные названия столбцов:"
   ]
  },
  {
   "cell_type": "code",
   "execution_count": null,
   "metadata": {
    "deletable": false,
    "id": "oKOTdF_Q_Zct",
    "outputId": "c5d58e20-14ce-40e9-c4b0-653110935790"
   },
   "outputs": [
    {
     "name": "stdout",
     "output_type": "stream",
     "text": [
      "Index(['  userID', 'Track', 'artist', 'genre', '  City  ', 'time', 'Day'], dtype='object')\n"
     ]
    }
   ],
   "source": [
    "print(df.columns)"
   ]
  },
  {
   "cell_type": "markdown",
   "metadata": {
    "deletable": false,
    "editable": false,
    "id": "zj5534cv_Zct",
    "tags": [
     "start_task"
    ]
   },
   "source": [
    "Хорошим стилем считается:\n",
    "* слова в названии записаны в « _змеином_регистре_ »,\n",
    "* все символы являются строчными,\n",
    "* устранены пробелы.\n",
    "\n",
    "Для этого будут переименованы колонки следующим образом:\n",
    "* `'  userID'` → `'user_id'`;\n",
    "* `'Track'` → `'track'`;\n",
    "* `'  City  '` → `'city'`;\n",
    "* `'Day'` → `'day'`."
   ]
  },
  {
   "cell_type": "code",
   "execution_count": null,
   "metadata": {
    "deletable": false,
    "id": "ISlFqs5y_Zct"
   },
   "outputs": [],
   "source": [
    "df = df.rename(columns={'  userID':'user_id', 'Track':'track', '  City  ':'city', 'Day':'day'})"
   ]
  },
  {
   "cell_type": "markdown",
   "metadata": {
    "deletable": false,
    "editable": false,
    "id": "1dqbh00J_Zct",
    "tags": [
     "start_task"
    ]
   },
   "source": [
    "Проверьтка результат. Для этого ещё раз необходимо вывести на экран названия столбцов:"
   ]
  },
  {
   "cell_type": "code",
   "execution_count": null,
   "metadata": {
    "deletable": false,
    "id": "d4NOAmTW_Zct",
    "outputId": "8e792b6d-436b-4e29-db64-0c69ce2815cf"
   },
   "outputs": [
    {
     "name": "stdout",
     "output_type": "stream",
     "text": [
      "Index(['user_id', 'track', 'artist', 'genre', 'city', 'time', 'day'], dtype='object')\n"
     ]
    }
   ],
   "source": [
    "print(df.columns)"
   ]
  },
  {
   "cell_type": "markdown",
   "metadata": {
    "deletable": false,
    "editable": false,
    "id": "5ISfbcfY_Zct",
    "tags": [
     "start_task"
    ]
   },
   "source": [
    "### Пропуски значений\n",
    "\n",
    "Для начала необходимо посчитать, сколько в таблице пропущенных значений. Для этого достаточно пары методов `pandas`:"
   ]
  },
  {
   "cell_type": "code",
   "execution_count": null,
   "metadata": {
    "deletable": false,
    "id": "RskX29qr_Zct",
    "outputId": "24c7678b-5e12-4ac2-bff8-fdfb87f8ac68"
   },
   "outputs": [
    {
     "name": "stdout",
     "output_type": "stream",
     "text": [
      "user_id       0\n",
      "track      1231\n",
      "artist     7203\n",
      "genre      1198\n",
      "city          0\n",
      "time          0\n",
      "day           0\n",
      "dtype: int64\n"
     ]
    }
   ],
   "source": [
    "print(df.isna().sum())"
   ]
  },
  {
   "cell_type": "markdown",
   "metadata": {
    "deletable": false,
    "editable": false,
    "id": "qubhgnlO_Zct"
   },
   "source": [
    "Не все пропущенные значения влияют на исследование. Так в `track` и `artist` пропуски не важны для вашей работы. Достаточно заменить их явными обозначениями.\n",
    "\n",
    "Но пропуски в `genre` могут помешать сравнению музыкальных вкусов в Москве и Санкт-Петербурге. На практике было бы правильно установить причину пропусков и восстановить данные. Такой возможности нет в учебном проекте. Придётся:\n",
    "* заполнить и эти пропуски явными обозначениями;\n",
    "* оценить, насколько они повредят расчётам. "
   ]
  },
  {
   "cell_type": "markdown",
   "metadata": {
    "deletable": false,
    "editable": false,
    "id": "fSv2laPA_Zct",
    "tags": [
     "start_task"
    ]
   },
   "source": [
    "Заменим пропущенные значения в столбцах `track`, `artist` и `genre` на строку `'unknown'`. Для этого создайте список `columns_to_replace`, переберая его элементы циклом `for` и для каждого столбца выполните замену пропущенных значений:"
   ]
  },
  {
   "cell_type": "code",
   "execution_count": null,
   "metadata": {
    "deletable": false,
    "id": "KplB5qWs_Zct"
   },
   "outputs": [],
   "source": [
    "columns_to_replace = ['track', 'artist', 'genre']\n",
    "for col in columns_to_replace: # перебор названий столбцов в цикле и\n",
    "    df[col] = df[col].fillna('unknown') # замена пропущенных значений на 'unknown'"
   ]
  },
  {
   "cell_type": "markdown",
   "metadata": {
    "deletable": false,
    "editable": false,
    "id": "Ilsm-MZo_Zct",
    "tags": [
     "start_task"
    ]
   },
   "source": [
    "Проверка, что в таблице не осталось пропусков."
   ]
  },
  {
   "cell_type": "code",
   "execution_count": null,
   "metadata": {
    "deletable": false,
    "id": "Tq4nYRX4_Zct",
    "outputId": "191ff398-5414-49f3-aec6-b789934322de"
   },
   "outputs": [
    {
     "name": "stdout",
     "output_type": "stream",
     "text": [
      "user_id    0\n",
      "track      0\n",
      "artist     0\n",
      "genre      0\n",
      "city       0\n",
      "time       0\n",
      "day        0\n",
      "dtype: int64\n"
     ]
    }
   ],
   "source": [
    "print(df.isna().sum())"
   ]
  },
  {
   "cell_type": "markdown",
   "metadata": {
    "deletable": false,
    "editable": false,
    "id": "BWKRtBJ3_Zct",
    "tags": [
     "start_task"
    ]
   },
   "source": [
    "### Дубликаты\n",
    "\n",
    "Посчёт явных дубликатов в таблице:"
   ]
  },
  {
   "cell_type": "code",
   "execution_count": null,
   "metadata": {
    "deletable": false,
    "id": "36eES_S0_Zct",
    "outputId": "1faba8ab-8fed-4363-b744-adacb8a9a634"
   },
   "outputs": [
    {
     "name": "stdout",
     "output_type": "stream",
     "text": [
      "3826\n"
     ]
    }
   ],
   "source": [
    "print(df.duplicated().sum())"
   ]
  },
  {
   "cell_type": "markdown",
   "metadata": {
    "deletable": false,
    "editable": false,
    "id": "Ot25h6XR_Zct",
    "tags": [
     "start_task"
    ]
   },
   "source": [
    "Вызовом специальным методом из `pandas`, удалю явные дубликаты:"
   ]
  },
  {
   "cell_type": "code",
   "execution_count": null,
   "metadata": {
    "deletable": false,
    "id": "exFHq6tt_Zct"
   },
   "outputs": [],
   "source": [
    "df = df.drop_duplicates()"
   ]
  },
  {
   "cell_type": "markdown",
   "metadata": {
    "deletable": false,
    "editable": false,
    "id": "Im2YwBEG_Zct",
    "tags": [
     "start_task"
    ]
   },
   "source": [
    "Ещё раз посчитаю явные дубликаты в таблице — убедиться, что полностью от них избавился:"
   ]
  },
  {
   "cell_type": "code",
   "execution_count": null,
   "metadata": {
    "deletable": false,
    "id": "-8PuNWQ0_Zct",
    "outputId": "47ef431e-cc80-4200-e2c1-57469781889d"
   },
   "outputs": [
    {
     "name": "stdout",
     "output_type": "stream",
     "text": [
      "0\n"
     ]
    }
   ],
   "source": [
    "print(df.duplicated().sum())"
   ]
  },
  {
   "cell_type": "markdown",
   "metadata": {
    "deletable": false,
    "editable": false,
    "id": "QlFBsxAr_Zct"
   },
   "source": [
    "Теперь необходимо избавиться от неявных дубликатов в колонке `genre`. Например, название одного и того же жанра может быть записано немного по-разному. Такие ошибки тоже повлияют на результат исследования."
   ]
  },
  {
   "cell_type": "markdown",
   "metadata": {
    "deletable": false,
    "editable": false,
    "id": "eSjWwsOh_Zct",
    "tags": [
     "start_task"
    ]
   },
   "source": [
    "Выведу на экран список уникальных названий жанров, отсортированный в алфавитном порядке. Для этого:\n",
    "1. извлеку нужный столбец датафрейма; \n",
    "2. применю к нему метод сортировки;\n",
    "3. для отсортированного столбца вызову метод, который вернёт уникальные значения из столбца."
   ]
  },
  {
   "cell_type": "code",
   "execution_count": null,
   "metadata": {
    "deletable": false,
    "id": "JIUcqzZN_Zct",
    "outputId": "de41bbfa-8754-4327-d596-72a078961528"
   },
   "outputs": [
    {
     "name": "stdout",
     "output_type": "stream",
     "text": [
      "['acid' 'acoustic' 'action' 'adult' 'africa' 'afrikaans' 'alternative'\n",
      " 'alternativepunk' 'ambient' 'americana' 'animated' 'anime' 'arabesk'\n",
      " 'arabic' 'arena' 'argentinetango' 'art' 'audiobook' 'author' 'avantgarde'\n",
      " 'axé' 'baile' 'balkan' 'beats' 'bigroom' 'black' 'bluegrass' 'blues'\n",
      " 'bollywood' 'bossa' 'brazilian' 'breakbeat' 'breaks' 'broadway'\n",
      " 'cantautori' 'cantopop' 'canzone' 'caribbean' 'caucasian' 'celtic'\n",
      " 'chamber' 'chanson' 'children' 'chill' 'chinese' 'choral' 'christian'\n",
      " 'christmas' 'classical' 'classicmetal' 'club' 'colombian' 'comedy'\n",
      " 'conjazz' 'contemporary' 'country' 'cuban' 'dance' 'dancehall' 'dancepop'\n",
      " 'dark' 'death' 'deep' 'deutschrock' 'deutschspr' 'dirty' 'disco' 'dnb'\n",
      " 'documentary' 'downbeat' 'downtempo' 'drum' 'dub' 'dubstep' 'eastern'\n",
      " 'easy' 'electronic' 'electropop' 'emo' 'entehno' 'epicmetal' 'estrada'\n",
      " 'ethnic' 'eurofolk' 'european' 'experimental' 'extrememetal' 'fado'\n",
      " 'fairytail' 'film' 'fitness' 'flamenco' 'folk' 'folklore' 'folkmetal'\n",
      " 'folkrock' 'folktronica' 'forró' 'frankreich' 'französisch' 'french'\n",
      " 'funk' 'future' 'gangsta' 'garage' 'german' 'ghazal' 'gitarre' 'glitch'\n",
      " 'gospel' 'gothic' 'grime' 'grunge' 'gypsy' 'handsup' \"hard'n'heavy\"\n",
      " 'hardcore' 'hardstyle' 'hardtechno' 'hip' 'hip-hop' 'hiphop' 'historisch'\n",
      " 'holiday' 'hop' 'horror' 'house' 'hymn' 'idm' 'independent' 'indian'\n",
      " 'indie' 'indipop' 'industrial' 'inspirational' 'instrumental'\n",
      " 'international' 'irish' 'jam' 'japanese' 'jazz' 'jewish' 'jpop' 'jungle'\n",
      " 'k-pop' 'karadeniz' 'karaoke' 'kayokyoku' 'korean' 'laiko' 'latin'\n",
      " 'latino' 'leftfield' 'local' 'lounge' 'loungeelectronic' 'lovers'\n",
      " 'malaysian' 'mandopop' 'marschmusik' 'meditative' 'mediterranean'\n",
      " 'melodic' 'metal' 'metalcore' 'mexican' 'middle' 'minimal'\n",
      " 'miscellaneous' 'modern' 'mood' 'mpb' 'muslim' 'native' 'neoklassik'\n",
      " 'neue' 'new' 'newage' 'newwave' 'nu' 'nujazz' 'numetal' 'oceania' 'old'\n",
      " 'opera' 'orchestral' 'other' 'piano' 'podcasts' 'pop' 'popdance'\n",
      " 'popelectronic' 'popeurodance' 'poprussian' 'post' 'posthardcore'\n",
      " 'postrock' 'power' 'progmetal' 'progressive' 'psychedelic' 'punjabi'\n",
      " 'punk' 'quebecois' 'ragga' 'ram' 'rancheras' 'rap' 'rave' 'reggae'\n",
      " 'reggaeton' 'regional' 'relax' 'religious' 'retro' 'rhythm' 'rnb' 'rnr'\n",
      " 'rock' 'rockabilly' 'rockalternative' 'rockindie' 'rockother' 'romance'\n",
      " 'roots' 'ruspop' 'rusrap' 'rusrock' 'russian' 'salsa' 'samba' 'scenic'\n",
      " 'schlager' 'self' 'sertanejo' 'shanson' 'shoegazing' 'showtunes' 'singer'\n",
      " 'ska' 'skarock' 'slow' 'smooth' 'soft' 'soul' 'soulful' 'sound'\n",
      " 'soundtrack' 'southern' 'specialty' 'speech' 'spiritual' 'sport'\n",
      " 'stonerrock' 'surf' 'swing' 'synthpop' 'synthrock' 'sängerportrait'\n",
      " 'tango' 'tanzorchester' 'taraftar' 'tatar' 'tech' 'techno' 'teen'\n",
      " 'thrash' 'top' 'traditional' 'tradjazz' 'trance' 'tribal' 'trip'\n",
      " 'triphop' 'tropical' 'türk' 'türkçe' 'ukrrock' 'unknown' 'urban' 'uzbek'\n",
      " 'variété' 'vi' 'videogame' 'vocal' 'western' 'world' 'worldbeat' 'ïîï'\n",
      " 'электроника']\n"
     ]
    }
   ],
   "source": [
    "df_genre = df['genre']\n",
    "df_genre = df_genre.sort_values()\n",
    "print(df_genre.unique())"
   ]
  },
  {
   "cell_type": "markdown",
   "metadata": {
    "deletable": false,
    "editable": false,
    "id": "qej-Qmuo_Zct",
    "tags": [
     "start_task"
    ]
   },
   "source": [
    "Просмотрев список, нашел неявные дубликаты названия `hiphop`. Это могут быть названия с ошибками или альтернативные названия того же жанра.\n",
    "\n",
    "К примеру следующие неявные дубликаты:\n",
    "* *hip*,\n",
    "* *hop*,\n",
    "* *hip-hop*.\n",
    "\n",
    "Чтобы очистить от них таблицу использую метод `replace()` с двумя аргументами: списком строк-дубликатов (включащий *hip*, *hop* и *hip-hop*) и строкой с правильным значением. Нужно исправить колонку `genre` в таблице `df`: заменив каждое значение из списка дубликатов на верное. Вместо `hip`, `hop` и `hip-hop` в таблице должно быть значение `hiphop`:"
   ]
  },
  {
   "cell_type": "code",
   "execution_count": null,
   "metadata": {
    "deletable": false,
    "id": "ErNDkmns_Zct"
   },
   "outputs": [],
   "source": [
    "df['genre'] = df['genre'].replace(['hip','hop','hip-hop'],'hiphop')"
   ]
  },
  {
   "cell_type": "markdown",
   "metadata": {
    "deletable": false,
    "editable": false,
    "id": "zQKF16_RG15m",
    "tags": [
     "start_task"
    ]
   },
   "source": [
    "Проверька, что заменены неправильные названия. Вывод отсортированного списока уникальных значений столбца `genre`:"
   ]
  },
  {
   "cell_type": "code",
   "execution_count": null,
   "metadata": {
    "deletable": false,
    "id": "wvixALnFG15m",
    "outputId": "8777263b-5b52-4007-ed30-1070abec5041"
   },
   "outputs": [
    {
     "name": "stdout",
     "output_type": "stream",
     "text": [
      "['acid' 'acoustic' 'action' 'adult' 'africa' 'afrikaans' 'alternative'\n",
      " 'alternativepunk' 'ambient' 'americana' 'animated' 'anime' 'arabesk'\n",
      " 'arabic' 'arena' 'argentinetango' 'art' 'audiobook' 'author' 'avantgarde'\n",
      " 'axé' 'baile' 'balkan' 'beats' 'bigroom' 'black' 'bluegrass' 'blues'\n",
      " 'bollywood' 'bossa' 'brazilian' 'breakbeat' 'breaks' 'broadway'\n",
      " 'cantautori' 'cantopop' 'canzone' 'caribbean' 'caucasian' 'celtic'\n",
      " 'chamber' 'chanson' 'children' 'chill' 'chinese' 'choral' 'christian'\n",
      " 'christmas' 'classical' 'classicmetal' 'club' 'colombian' 'comedy'\n",
      " 'conjazz' 'contemporary' 'country' 'cuban' 'dance' 'dancehall' 'dancepop'\n",
      " 'dark' 'death' 'deep' 'deutschrock' 'deutschspr' 'dirty' 'disco' 'dnb'\n",
      " 'documentary' 'downbeat' 'downtempo' 'drum' 'dub' 'dubstep' 'eastern'\n",
      " 'easy' 'electronic' 'electropop' 'emo' 'entehno' 'epicmetal' 'estrada'\n",
      " 'ethnic' 'eurofolk' 'european' 'experimental' 'extrememetal' 'fado'\n",
      " 'fairytail' 'film' 'fitness' 'flamenco' 'folk' 'folklore' 'folkmetal'\n",
      " 'folkrock' 'folktronica' 'forró' 'frankreich' 'französisch' 'french'\n",
      " 'funk' 'future' 'gangsta' 'garage' 'german' 'ghazal' 'gitarre' 'glitch'\n",
      " 'gospel' 'gothic' 'grime' 'grunge' 'gypsy' 'handsup' \"hard'n'heavy\"\n",
      " 'hardcore' 'hardstyle' 'hardtechno' 'hiphop' 'historisch' 'holiday'\n",
      " 'horror' 'house' 'hymn' 'idm' 'independent' 'indian' 'indie' 'indipop'\n",
      " 'industrial' 'inspirational' 'instrumental' 'international' 'irish' 'jam'\n",
      " 'japanese' 'jazz' 'jewish' 'jpop' 'jungle' 'k-pop' 'karadeniz' 'karaoke'\n",
      " 'kayokyoku' 'korean' 'laiko' 'latin' 'latino' 'leftfield' 'local'\n",
      " 'lounge' 'loungeelectronic' 'lovers' 'malaysian' 'mandopop' 'marschmusik'\n",
      " 'meditative' 'mediterranean' 'melodic' 'metal' 'metalcore' 'mexican'\n",
      " 'middle' 'minimal' 'miscellaneous' 'modern' 'mood' 'mpb' 'muslim'\n",
      " 'native' 'neoklassik' 'neue' 'new' 'newage' 'newwave' 'nu' 'nujazz'\n",
      " 'numetal' 'oceania' 'old' 'opera' 'orchestral' 'other' 'piano' 'podcasts'\n",
      " 'pop' 'popdance' 'popelectronic' 'popeurodance' 'poprussian' 'post'\n",
      " 'posthardcore' 'postrock' 'power' 'progmetal' 'progressive' 'psychedelic'\n",
      " 'punjabi' 'punk' 'quebecois' 'ragga' 'ram' 'rancheras' 'rap' 'rave'\n",
      " 'reggae' 'reggaeton' 'regional' 'relax' 'religious' 'retro' 'rhythm'\n",
      " 'rnb' 'rnr' 'rock' 'rockabilly' 'rockalternative' 'rockindie' 'rockother'\n",
      " 'romance' 'roots' 'ruspop' 'rusrap' 'rusrock' 'russian' 'salsa' 'samba'\n",
      " 'scenic' 'schlager' 'self' 'sertanejo' 'shanson' 'shoegazing' 'showtunes'\n",
      " 'singer' 'ska' 'skarock' 'slow' 'smooth' 'soft' 'soul' 'soulful' 'sound'\n",
      " 'soundtrack' 'southern' 'specialty' 'speech' 'spiritual' 'sport'\n",
      " 'stonerrock' 'surf' 'swing' 'synthpop' 'synthrock' 'sängerportrait'\n",
      " 'tango' 'tanzorchester' 'taraftar' 'tatar' 'tech' 'techno' 'teen'\n",
      " 'thrash' 'top' 'traditional' 'tradjazz' 'trance' 'tribal' 'trip'\n",
      " 'triphop' 'tropical' 'türk' 'türkçe' 'ukrrock' 'unknown' 'urban' 'uzbek'\n",
      " 'variété' 'vi' 'videogame' 'vocal' 'western' 'world' 'worldbeat' 'ïîï'\n",
      " 'электроника']\n"
     ]
    }
   ],
   "source": [
    "df_genre = df['genre']\n",
    "df_genre = df_genre.sort_values()\n",
    "print(df_genre.unique())"
   ]
  },
  {
   "cell_type": "markdown",
   "metadata": {
    "deletable": false,
    "editable": false,
    "id": "jz6a9-7HQUDd"
   },
   "source": [
    "**Выводы:**\n",
    "\n",
    "Предобработка обнаружила три проблемы в данных:\n",
    "\n",
    "- нарушения в стиле заголовков,\n",
    "- пропущенные значения,\n",
    "- дубликаты — явные и неявные.\n",
    "\n",
    "Были исправлены заголовки, чтобы упростить работу с таблицей. Без дубликатов исследование станет более точным.\n",
    "\n",
    "Пропущенные значения были замены на `'unknown'`. Ещё предстоит увидеть, не повредят ли исследованию пропуски в колонке `genre`.\n",
    "\n",
    "Теперь можно перейти к проверке гипотез. "
   ]
  },
  {
   "cell_type": "markdown",
   "metadata": {
    "deletable": false,
    "editable": false,
    "id": "WttZHXH0SqKk"
   },
   "source": [
    "<a id='section_3'></a>\n",
    "## Проверка гипотез"
   ]
  },
  {
   "cell_type": "markdown",
   "metadata": {
    "deletable": false,
    "editable": false,
    "id": "Im936VVi_Zcu"
   },
   "source": [
    "### Сравнение поведения пользователей двух столиц"
   ]
  },
  {
   "cell_type": "markdown",
   "metadata": {
    "deletable": false,
    "editable": false,
    "id": "nwt_MuaL_Zcu"
   },
   "source": [
    "Первая гипотеза утверждает, что пользователи по-разному слушают музыку в Москве и Санкт-Петербурге. Проверю это предположение по данным о трёх днях недели — понедельнике, среде и пятнице. Для этого:\n",
    "\n",
    "* Разделю пользователей Москвы и Санкт-Петербурга.\n",
    "* Сравню, сколько треков послушала каждая группа пользователей в понедельник, среду и пятницу.\n"
   ]
  },
  {
   "cell_type": "markdown",
   "metadata": {
    "deletable": false,
    "editable": false,
    "id": "8Dw_YMmT_Zcu",
    "tags": [
     "start_task"
    ]
   },
   "source": [
    "Для тренировки сначала выполните каждый из расчётов по отдельности. \n",
    "\n",
    "Оценю активность пользователей в каждом городе, сгруппировав данные по городу и посчитав прослушивание в каждой группе.\n",
    "\n"
   ]
  },
  {
   "cell_type": "code",
   "execution_count": null,
   "metadata": {
    "deletable": false,
    "id": "0_Qs96oh_Zcu",
    "outputId": "855c12d5-a958-43e8-cd01-011f0e71487b"
   },
   "outputs": [
    {
     "name": "stdout",
     "output_type": "stream",
     "text": [
      "city\n",
      "Moscow              42741\n",
      "Saint-Petersburg    18512\n",
      "Name: user_id, dtype: int64\n"
     ]
    }
   ],
   "source": [
    "df_city = df.groupby('city')['user_id'].count()\n",
    "print(df_city)"
   ]
  },
  {
   "cell_type": "markdown",
   "metadata": {
    "deletable": false,
    "editable": false,
    "id": "dzli3w8o_Zcu",
    "tags": [
     "start_task"
    ]
   },
   "source": [
    "В Москве прослушиваний больше, чем в Петербурге. Из этого не следует, что московские пользователи чаще слушают музыку. Просто самих пользователей в Москве больше.\n",
    "\n",
    "Теперь сгруппирую данные по дню недели и посчитаю прослушивания в понедельник, среду и пятницу, учитывая, что в данных есть информация о прослушиваниях только за эти дни.\n"
   ]
  },
  {
   "cell_type": "code",
   "execution_count": null,
   "metadata": {
    "deletable": false,
    "id": "uZMKjiJz_Zcu",
    "outputId": "b46ca7ce-7aa1-49f9-a701-d0d058641b86"
   },
   "outputs": [
    {
     "name": "stdout",
     "output_type": "stream",
     "text": [
      "day\n",
      "Friday       21840\n",
      "Monday       21354\n",
      "Wednesday    18059\n",
      "Name: user_id, dtype: int64\n"
     ]
    }
   ],
   "source": [
    "df_days = df.groupby('day')['user_id'].count() # Подсчёт прослушиваний в каждый из трёх дней\n",
    "print(df_days)"
   ]
  },
  {
   "cell_type": "markdown",
   "metadata": {
    "deletable": false,
    "editable": false,
    "id": "cC2tNrlL_Zcu"
   },
   "source": [
    "В среднем, пользователи из двух городов менее активны по средам. Но картина может измениться, если рассмотреть каждый город в отдельности."
   ]
  },
  {
   "cell_type": "markdown",
   "metadata": {
    "deletable": false,
    "editable": false,
    "id": "POzs8bGa_Zcu",
    "tags": [
     "start_task"
    ]
   },
   "source": [
    "Создам функцию `number_tracks()`, которая посчитает прослушивания для заданного дня и города. Ей понадобятся два параметра:\n",
    "* день недели,\n",
    "* название города.\n",
    "\n",
    "Внутри функция сохраняет в переменную строки исходной таблицы, у которых значение:\n",
    "  * в колонке `day` равно параметру `day`,\n",
    "  * в колонке `city` равно параметру `city`.\n",
    "\n",
    "Для этого применю последовательную фильтрацию с логической индексацией (или сложные логические выражения в одну строку).\n",
    "\n",
    "Затем посчитаю значения в столбце `user_id` получившейся таблицы. Результат сохраню в новую переменную. Верну эту переменную из функции."
   ]
  },
  {
   "cell_type": "code",
   "execution_count": null,
   "metadata": {
    "deletable": false,
    "id": "Nz3GdQB1_Zcu"
   },
   "outputs": [],
   "source": [
    "def number_tracks(day, city): # Объявляется функция с двумя параметрами: day, city.\n",
    "    track_list = df # В переменной track_list сохраняются те строки таблицы df, для которых \n",
    "    track_list = track_list[track_list['day']==day] # значение в столбце 'day' равно параметру day и одновременно значение\n",
    "    track_list = track_list[track_list['city']==city] # в столбце 'city' равно параметру city (используйте последовательную фильтрацию\n",
    "    track_list_count = track_list['user_id'].count() # В переменной track_list_count сохраняется число значений столбца 'user_id',\n",
    "    return track_list_count # Функция возвращает число - значение track_list_count."
   ]
  },
  {
   "cell_type": "markdown",
   "metadata": {
    "deletable": false,
    "editable": false,
    "id": "ytf7xFrFJQ2r",
    "tags": [
     "start_task"
    ]
   },
   "source": [
    "Вызову `number_tracks()` шесть раз, меняя значение параметров — так, чтобы получить данные для каждого города в каждый из трёх дней."
   ]
  },
  {
   "cell_type": "code",
   "execution_count": null,
   "metadata": {
    "deletable": false,
    "id": "rJcRATNQ_Zcu",
    "outputId": "023bbeb2-f2d1-4443-93c6-62e7d3bf8191"
   },
   "outputs": [
    {
     "data": {
      "text/plain": [
       "15740"
      ]
     },
     "execution_count": 21,
     "metadata": {},
     "output_type": "execute_result"
    }
   ],
   "source": [
    "number_tracks('Monday', 'Moscow')# количество прослушиваний в Москве по понедельникам"
   ]
  },
  {
   "cell_type": "code",
   "execution_count": null,
   "metadata": {
    "deletable": false,
    "id": "hq_ncZ5T_Zcu",
    "outputId": "b5879333-6244-43db-c2f2-03d0d420f789"
   },
   "outputs": [
    {
     "data": {
      "text/plain": [
       "5614"
      ]
     },
     "execution_count": 22,
     "metadata": {},
     "output_type": "execute_result"
    }
   ],
   "source": [
    "number_tracks('Monday', 'Saint-Petersburg')# количество прослушиваний в Санкт-Петербурге по понедельникам"
   ]
  },
  {
   "cell_type": "code",
   "execution_count": null,
   "metadata": {
    "deletable": false,
    "id": "_NTy2VPU_Zcu",
    "outputId": "cca5158a-5d59-4764-b5f3-c8d603118ed8"
   },
   "outputs": [
    {
     "data": {
      "text/plain": [
       "11056"
      ]
     },
     "execution_count": 23,
     "metadata": {},
     "output_type": "execute_result"
    }
   ],
   "source": [
    "number_tracks('Wednesday', 'Moscow')# количество прослушиваний в Москве по средам"
   ]
  },
  {
   "cell_type": "code",
   "execution_count": null,
   "metadata": {
    "deletable": false,
    "id": "j2y3TAwo_Zcu",
    "outputId": "24b7cf95-06fa-46ef-b5e3-07890abe1acc"
   },
   "outputs": [
    {
     "data": {
      "text/plain": [
       "7003"
      ]
     },
     "execution_count": 24,
     "metadata": {},
     "output_type": "execute_result"
    }
   ],
   "source": [
    "number_tracks('Wednesday', 'Saint-Petersburg')# количество прослушиваний в Санкт-Петербурге по средам"
   ]
  },
  {
   "cell_type": "code",
   "execution_count": null,
   "metadata": {
    "deletable": false,
    "id": "vYDw5u_K_Zcu",
    "outputId": "b238ce3a-cd1c-411e-fe95-7046350ec2e0"
   },
   "outputs": [
    {
     "data": {
      "text/plain": [
       "15945"
      ]
     },
     "execution_count": 25,
     "metadata": {},
     "output_type": "execute_result"
    }
   ],
   "source": [
    "number_tracks('Friday', 'Moscow')# количество прослушиваний в Москве по пятницам"
   ]
  },
  {
   "cell_type": "code",
   "execution_count": null,
   "metadata": {
    "deletable": false,
    "id": "8_yzFtW3_Zcu",
    "outputId": "2a7989ba-b868-429c-a582-eb806f54c6b1"
   },
   "outputs": [
    {
     "data": {
      "text/plain": [
       "5895"
      ]
     },
     "execution_count": 26,
     "metadata": {},
     "output_type": "execute_result"
    }
   ],
   "source": [
    "number_tracks('Friday', 'Saint-Petersburg')# количество прослушиваний в Санкт-Петербурге по пятницам"
   ]
  },
  {
   "cell_type": "markdown",
   "metadata": {
    "deletable": false,
    "editable": false,
    "id": "7QXffbO-_Zcu",
    "tags": [
     "start_task"
    ]
   },
   "source": [
    "Создам c помощью конструктора `pd.DataFrame` таблицу, где\n",
    "* названия колонок — `['city', 'monday', 'wednesday', 'friday']`;\n",
    "* данные — результаты, которые получил с помощью `number_tracks`."
   ]
  },
  {
   "cell_type": "code",
   "execution_count": null,
   "metadata": {
    "deletable": false,
    "id": "APAcLpOr_Zcu"
   },
   "outputs": [],
   "source": [
    "data = []\n",
    "columns = ['city', 'monday', 'wednesday', 'friday']\n",
    "\n",
    "for city in ['Moscow', 'Saint-Petersburg']:\n",
    "    row_data = []\n",
    "    row_data.append(city)\n",
    "    for day in ['Monday', 'Wednesday', 'Friday']:\n",
    "        row_data.append(number_tracks(day, city))\n",
    "    data.append(row_data)\n",
    "\n",
    "info = pd.DataFrame(data=data, columns=columns)# Таблица с результатами\n",
    "#display(info)"
   ]
  },
  {
   "cell_type": "markdown",
   "metadata": {
    "deletable": false,
    "editable": false,
    "id": "-EgPIHYu_Zcu"
   },
   "source": [
    "**Выводы**\n",
    "\n",
    "Данные показывают разницу поведения пользователей:\n",
    "\n",
    "- В Москве пик прослушиваний приходится на понедельник и пятницу, а в среду заметен спад.\n",
    "- В Петербурге, наоборот, больше слушают музыку по средам. Активность в понедельник и пятницу здесь почти в равной мере уступает среде.\n",
    "\n",
    "Значит, данные говорят в пользу первой гипотезы."
   ]
  },
  {
   "cell_type": "markdown",
   "metadata": {
    "deletable": false,
    "editable": false,
    "id": "atZAxtq4_Zcu"
   },
   "source": [
    "### Музыка в начале и в конце недели"
   ]
  },
  {
   "cell_type": "markdown",
   "metadata": {
    "deletable": false,
    "editable": false,
    "id": "eXrQqXFH_Zcu"
   },
   "source": [
    "Согласно второй гипотезе, утром в понедельник в Москве преобладают одни жанры, а в Петербурге — другие. Так же и вечером пятницы преобладают разные жанры — в зависимости от города."
   ]
  },
  {
   "cell_type": "markdown",
   "metadata": {
    "deletable": false,
    "editable": false,
    "id": "S8UcW6Hw_Zcu",
    "tags": [
     "start_task"
    ]
   },
   "source": [
    "Сохраню таблицы с данными в две переменные:\n",
    "* по Москве — в `moscow_general`;\n",
    "* по Санкт-Петербургу — в `spb_general`."
   ]
  },
  {
   "cell_type": "code",
   "execution_count": null,
   "metadata": {
    "deletable": false,
    "id": "qeaFfM_P_Zcu"
   },
   "outputs": [],
   "source": [
    "moscow_general = df[df['city']=='Moscow']\n",
    "spb_general    = df[df['city']=='Saint-Petersburg'] "
   ]
  },
  {
   "cell_type": "markdown",
   "metadata": {
    "deletable": false,
    "editable": false,
    "id": "MEJV-CX2_Zcu",
    "tags": [
     "start_task"
    ]
   },
   "source": [
    "Создам функцию `genre_weekday()` с четырьмя параметрами:\n",
    "* таблица (датафрейм) с данными,\n",
    "* день недели,\n",
    "* начальная временная метка в формате 'hh:mm', \n",
    "* последняя временная метка в формате 'hh:mm'.\n",
    "\n",
    "Функция должна вернуть информацию о топ-10 жанров тех треков, которые прослушивали в указанный день, в промежутке между двумя отметками времени."
   ]
  },
  {
   "cell_type": "code",
   "execution_count": null,
   "metadata": {
    "deletable": false,
    "id": "laJT9BYl_Zcu"
   },
   "outputs": [],
   "source": [
    "def genre_weekday(table, day, time1, time2):\n",
    "    # последовательная фильтрация\n",
    "    genre_df = table[table['day']==day] # оставляем в genre_df только те строки df, у которых день равен day\n",
    "    genre_df = genre_df[genre_df['time']<time2] # оставляем в genre_df только те строки genre_df, у которых время меньше time2\n",
    "    genre_df = genre_df[genre_df['time']>time1] # оставляем в genre_df только те строки genre_df, у которых время больше time1\n",
    "    \n",
    "    # сгруппируем отфильтрованный датафрейм по столбцу с названиями жанров, возьмём столбец genre и посчитаем кол-во строк для каждого жанра методом count()\n",
    "    genre_df_grouped = genre_df.groupby('genre')['genre'].count()\n",
    "    \n",
    "    # отсортируем результат по убыванию (чтобы в начале Series оказались самые популярные жанры)\n",
    "    genre_df_sorted = genre_df_grouped.sort_values(ascending=False)\n",
    "    \n",
    "    return genre_df_sorted[:10] # вернём Series с 10 самыми популярными жанрами в указанный отрезок времени заданного дня"
   ]
  },
  {
   "cell_type": "markdown",
   "metadata": {
    "deletable": false,
    "editable": false,
    "id": "la2s2_PF_Zcu",
    "tags": [
     "start_task"
    ]
   },
   "source": [
    "Cравним результаты функции `genre_weekday()` для Москвы и Санкт-Петербурга в понедельник утром (с 7:00 до 11:00) и в пятницу вечером (с 17:00 до 23:00):"
   ]
  },
  {
   "cell_type": "code",
   "execution_count": null,
   "metadata": {
    "deletable": false,
    "id": "yz7itPUQ_Zcu",
    "outputId": "e40961a8-04e1-4a50-ec07-edc83ac6dff7"
   },
   "outputs": [
    {
     "data": {
      "text/plain": [
       "genre\n",
       "pop            781\n",
       "dance          549\n",
       "electronic     480\n",
       "rock           474\n",
       "hiphop         286\n",
       "ruspop         186\n",
       "world          181\n",
       "rusrap         175\n",
       "alternative    164\n",
       "unknown        161\n",
       "Name: genre, dtype: int64"
      ]
     },
     "execution_count": 31,
     "metadata": {},
     "output_type": "execute_result"
    }
   ],
   "source": [
    "# вызов функции для утра понедельника в Москве\n",
    "genre_weekday(moscow_general, 'Monday', '07:00', '11:00')"
   ]
  },
  {
   "cell_type": "code",
   "execution_count": null,
   "metadata": {
    "deletable": false,
    "id": "kwUcHPdy_Zcu",
    "outputId": "95ecea25-51dc-4d17-8633-0a932ed57e58"
   },
   "outputs": [
    {
     "data": {
      "text/plain": [
       "genre\n",
       "pop            218\n",
       "dance          182\n",
       "rock           162\n",
       "electronic     147\n",
       "hiphop          80\n",
       "ruspop          64\n",
       "alternative     58\n",
       "rusrap          55\n",
       "jazz            44\n",
       "classical       40\n",
       "Name: genre, dtype: int64"
      ]
     },
     "execution_count": 32,
     "metadata": {},
     "output_type": "execute_result"
    }
   ],
   "source": [
    "# вызов функции для утра понедельника в Петербурге\n",
    "genre_weekday(spb_general, 'Monday', '07:00', '11:00')"
   ]
  },
  {
   "cell_type": "code",
   "execution_count": null,
   "metadata": {
    "deletable": false,
    "id": "EzXVRE1o_Zcu",
    "outputId": "efc810ff-b199-4bf4-84fa-4712ba0943ef"
   },
   "outputs": [
    {
     "data": {
      "text/plain": [
       "genre\n",
       "pop            713\n",
       "rock           517\n",
       "dance          495\n",
       "electronic     482\n",
       "hiphop         273\n",
       "world          208\n",
       "ruspop         170\n",
       "alternative    163\n",
       "classical      163\n",
       "rusrap         142\n",
       "Name: genre, dtype: int64"
      ]
     },
     "execution_count": 41,
     "metadata": {},
     "output_type": "execute_result"
    }
   ],
   "source": [
    "# вызов функции для вечера пятницы в Москве\n",
    "genre_weekday(moscow_general, 'Friday', '17:00', '23:00')"
   ]
  },
  {
   "cell_type": "code",
   "execution_count": null,
   "metadata": {
    "deletable": false,
    "id": "JZaEKu5v_Zcu",
    "outputId": "8aaa6d95-f972-4482-cff1-81c223cc972f"
   },
   "outputs": [
    {
     "data": {
      "text/plain": [
       "genre\n",
       "pop            256\n",
       "electronic     216\n",
       "rock           216\n",
       "dance          210\n",
       "hiphop          97\n",
       "alternative     63\n",
       "jazz            61\n",
       "classical       60\n",
       "rusrap          59\n",
       "world           54\n",
       "Name: genre, dtype: int64"
      ]
     },
     "execution_count": 42,
     "metadata": {},
     "output_type": "execute_result"
    }
   ],
   "source": [
    "# вызов функции для вечера пятницы в Петербурге\n",
    "genre_weekday(spb_general, 'Friday', '17:00', '23:00')"
   ]
  },
  {
   "cell_type": "markdown",
   "metadata": {
    "deletable": false,
    "editable": false,
    "id": "wrCe4MNX_Zcu"
   },
   "source": [
    "**Выводы**\n",
    "\n",
    "Если сравнить топ-10 жанров в понедельник утром, то:\n",
    "\n",
    "1. В Москве и Петербурге слушают похожую музыку. Единственное отличие — в московский рейтинг вошёл жанр “world”, а в петербургский — джаз и классика.\n",
    "\n",
    "2. В Москве пропущенных значений оказалось так много, что значение `'unknown'` заняло десятое место среди самых популярных жанров. Значит, пропущенные значения занимают существенную долю в данных и угрожают достоверности исследования.\n",
    "\n",
    "Вечер пятницы не меняет эту картину. Некоторые жанры поднимаются немного выше, другие спускаются, но в целом топ-10 остаётся тем же самым.\n",
    "\n",
    "Таким образом, вторая гипотеза подтвердилась лишь частично:\n",
    "* Пользователи слушают похожую музыку в начале недели и в конце.\n",
    "* Разница между Москвой и Петербургом не слишком выражена. В Москве чаще слушают русскую популярную музыку, в Петербурге — джаз.\n",
    "\n",
    "Однако пропуски в данных ставят под сомнение этот результат. В Москве их так много, что рейтинг топ-10 мог бы выглядеть иначе, если бы не утерянные  данные о жанрах."
   ]
  },
  {
   "cell_type": "markdown",
   "metadata": {
    "deletable": false,
    "editable": false,
    "id": "JolODAqr_Zcu"
   },
   "source": [
    "### Жанровые предпочтения в Москве и Петербурге\n",
    "\n",
    "Гипотеза: Петербург — столица рэпа, музыку этого жанра там слушают чаще, чем в Москве.  А Москва — город контрастов, в котором, тем не менее, преобладает поп-музыка."
   ]
  },
  {
   "cell_type": "markdown",
   "metadata": {
    "deletable": false,
    "editable": false,
    "id": "DlegSvaT_Zcu",
    "tags": [
     "start_task"
    ]
   },
   "source": [
    "Сгруппирую таблицу `moscow_general` по жанру и посчитаю прослушивания треков каждого жанра методом `count()`. Затем отсортирую результат в порядке убывания и сохраню его в таблице `moscow_genres`."
   ]
  },
  {
   "cell_type": "code",
   "execution_count": null,
   "metadata": {
    "deletable": false,
    "id": "WhCSooF8_Zcv",
    "outputId": "6fa97dea-1b81-47c8-e808-2109c8a1016a"
   },
   "outputs": [
    {
     "name": "stdout",
     "output_type": "stream",
     "text": [
      "genre\n",
      "pop            5892\n",
      "dance          4435\n",
      "rock           3965\n",
      "electronic     3786\n",
      "hiphop         2096\n",
      "classical      1616\n",
      "world          1432\n",
      "alternative    1379\n",
      "ruspop         1372\n",
      "rusrap         1161\n",
      "Name: genre, dtype: int64\n"
     ]
    }
   ],
   "source": [
    "moscow_genres = moscow_general.groupby('genre')['genre'].count().sort_values(ascending=False)\n",
    "\n",
    "print(moscow_genres.head(10)) # просмотр первых 10 строк moscow_genres"
   ]
  },
  {
   "cell_type": "markdown",
   "metadata": {
    "deletable": false,
    "editable": false,
    "id": "cnPG2vnN_Zcv",
    "tags": [
     "start_task"
    ]
   },
   "source": [
    "Теперь повторю то же и для Петербурга.\n"
   ]
  },
  {
   "cell_type": "code",
   "execution_count": null,
   "metadata": {
    "deletable": false,
    "id": "uaGJHjVU_Zcv",
    "outputId": "df3150ba-af1d-4bb0-b696-53d8ada54f60"
   },
   "outputs": [
    {
     "name": "stdout",
     "output_type": "stream",
     "text": [
      "genre\n",
      "pop            2431\n",
      "dance          1932\n",
      "rock           1879\n",
      "electronic     1736\n",
      "hiphop          960\n",
      "alternative     649\n",
      "classical       646\n",
      "rusrap          564\n",
      "ruspop          538\n",
      "world           515\n",
      "Name: genre, dtype: int64\n"
     ]
    }
   ],
   "source": [
    "spb_genres = spb_general.groupby('genre')['genre'].count().sort_values(ascending=False)\n",
    "\n",
    "print(spb_genres.head(10)) # просмотр первых 10 строк spb_genres"
   ]
  },
  {
   "cell_type": "markdown",
   "metadata": {
    "deletable": false,
    "editable": false,
    "id": "RY51YJYu_Zcv"
   },
   "source": [
    "**Выводы**"
   ]
  },
  {
   "cell_type": "markdown",
   "metadata": {
    "deletable": false,
    "editable": false,
    "id": "nVhnJEm__Zcv"
   },
   "source": [
    "Гипотеза частично подтвердилась:\n",
    "* Поп-музыка — самый популярный жанр в Москве, как и предполагала гипотеза. Более того, в топ-10 жанров встречается близкий жанр — русская популярная музыка.\n",
    "* Вопреки ожиданиям, рэп одинаково популярен в Москве и Петербурге. \n"
   ]
  },
  {
   "cell_type": "markdown",
   "metadata": {
    "deletable": false,
    "editable": false,
    "id": "ykKQ0N65_Zcv"
   },
   "source": [
    "<a id='section_4'></a>\n",
    "## Итоги исследования"
   ]
  },
  {
   "cell_type": "markdown",
   "metadata": {
    "deletable": false,
    "editable": false,
    "id": "tjUwbHb3_Zcv"
   },
   "source": [
    "Были проверены три гипотезы и установили:\n",
    "\n",
    "1. День недели по-разному влияет на активность пользователей в Москве и Петербурге. (Первая гипотеза полностью подтвердилась.)\n",
    "\n",
    "2. Музыкальные предпочтения не сильно меняются в течение недели — будь то Москва или Петербург. Небольшие различия заметны в начале недели, по понедельникам:\n",
    "* в Москве слушают музыку жанра “world”,\n",
    "* в Петербурге — джаз и классику.\n",
    "\n",
    "(Вторая гипотеза подтвердилась лишь отчасти. Этот результат мог оказаться иным, если бы не пропуски в данных.)\n",
    "\n",
    "3. Во вкусах пользователей Москвы и Петербурга больше общего чем различий. Вопреки ожиданиям, предпочтения жанров в Петербурге напоминают московские.\n",
    "\n",
    "(Третья гипотеза не подтвердилась. Если различия в предпочтениях и существуют, на основной массе пользователей они незаметны.)"
   ]
  }
 ],
 "metadata": {
  "ExecuteTimeLog": [
   {
    "duration": 386,
    "start_time": "2022-09-06T11:21:21.215Z"
   },
   {
    "duration": 226,
    "start_time": "2022-09-06T11:31:30.968Z"
   },
   {
    "duration": 65,
    "start_time": "2022-09-06T11:40:18.173Z"
   },
   {
    "duration": 17,
    "start_time": "2022-09-06T11:40:27.320Z"
   },
   {
    "duration": 373,
    "start_time": "2022-09-06T11:44:41.325Z"
   },
   {
    "duration": 166,
    "start_time": "2022-09-06T11:44:41.700Z"
   },
   {
    "duration": 20,
    "start_time": "2022-09-06T11:44:41.868Z"
   },
   {
    "duration": 3,
    "start_time": "2022-09-06T11:44:41.890Z"
   },
   {
    "duration": 9,
    "start_time": "2022-09-06T11:44:41.895Z"
   },
   {
    "duration": 6,
    "start_time": "2022-09-06T11:44:41.906Z"
   },
   {
    "duration": 10,
    "start_time": "2022-09-06T11:44:41.913Z"
   },
   {
    "duration": 6,
    "start_time": "2022-09-06T11:44:41.925Z"
   },
   {
    "duration": 9,
    "start_time": "2022-09-06T11:44:41.932Z"
   },
   {
    "duration": 12,
    "start_time": "2022-09-06T11:44:41.944Z"
   },
   {
    "duration": 11,
    "start_time": "2022-09-06T11:44:41.957Z"
   },
   {
    "duration": 13,
    "start_time": "2022-09-06T11:44:41.970Z"
   },
   {
    "duration": 8,
    "start_time": "2022-09-06T11:44:41.985Z"
   },
   {
    "duration": 12,
    "start_time": "2022-09-06T11:44:41.995Z"
   },
   {
    "duration": 13,
    "start_time": "2022-09-06T11:44:42.008Z"
   },
   {
    "duration": 12,
    "start_time": "2022-09-06T11:44:42.022Z"
   },
   {
    "duration": 16,
    "start_time": "2022-09-06T11:44:42.036Z"
   },
   {
    "duration": 13,
    "start_time": "2022-09-06T11:44:42.053Z"
   },
   {
    "duration": 7,
    "start_time": "2022-09-06T11:44:42.068Z"
   },
   {
    "duration": 9,
    "start_time": "2022-09-06T11:44:42.076Z"
   },
   {
    "duration": 9,
    "start_time": "2022-09-06T11:44:42.087Z"
   },
   {
    "duration": 10,
    "start_time": "2022-09-06T11:44:42.097Z"
   },
   {
    "duration": 5,
    "start_time": "2022-09-06T11:44:42.109Z"
   },
   {
    "duration": 5,
    "start_time": "2022-09-06T11:44:42.116Z"
   },
   {
    "duration": 8,
    "start_time": "2022-09-06T11:44:42.123Z"
   },
   {
    "duration": 5,
    "start_time": "2022-09-06T11:44:42.133Z"
   },
   {
    "duration": 10,
    "start_time": "2022-09-06T11:44:42.139Z"
   },
   {
    "duration": 7,
    "start_time": "2022-09-06T11:44:42.151Z"
   },
   {
    "duration": 7,
    "start_time": "2022-09-06T11:44:42.159Z"
   },
   {
    "duration": 80,
    "start_time": "2022-09-06T11:44:42.168Z"
   },
   {
    "duration": 0,
    "start_time": "2022-09-06T11:44:42.250Z"
   },
   {
    "duration": 0,
    "start_time": "2022-09-06T11:44:42.251Z"
   },
   {
    "duration": 0,
    "start_time": "2022-09-06T11:44:42.252Z"
   },
   {
    "duration": 0,
    "start_time": "2022-09-06T11:44:42.253Z"
   },
   {
    "duration": 0,
    "start_time": "2022-09-06T11:44:42.254Z"
   },
   {
    "duration": 0,
    "start_time": "2022-09-06T11:44:42.255Z"
   },
   {
    "duration": 0,
    "start_time": "2022-09-06T11:44:42.257Z"
   },
   {
    "duration": 0,
    "start_time": "2022-09-06T11:44:42.258Z"
   },
   {
    "duration": 6,
    "start_time": "2022-09-06T11:45:25.343Z"
   },
   {
    "duration": 31,
    "start_time": "2022-09-06T11:46:34.516Z"
   },
   {
    "duration": 3,
    "start_time": "2022-09-06T11:53:06.347Z"
   },
   {
    "duration": 4,
    "start_time": "2022-09-06T11:55:55.888Z"
   },
   {
    "duration": 23,
    "start_time": "2022-09-06T12:01:52.501Z"
   },
   {
    "duration": 22,
    "start_time": "2022-09-06T12:02:05.681Z"
   },
   {
    "duration": 450,
    "start_time": "2022-09-06T12:03:56.265Z"
   },
   {
    "duration": 168,
    "start_time": "2022-09-06T12:03:56.716Z"
   },
   {
    "duration": 8,
    "start_time": "2022-09-06T12:03:56.885Z"
   },
   {
    "duration": 33,
    "start_time": "2022-09-06T12:03:56.896Z"
   },
   {
    "duration": 2,
    "start_time": "2022-09-06T12:03:56.932Z"
   },
   {
    "duration": 8,
    "start_time": "2022-09-06T12:03:56.936Z"
   },
   {
    "duration": 44,
    "start_time": "2022-09-06T12:03:56.945Z"
   },
   {
    "duration": 2,
    "start_time": "2022-09-06T12:03:56.991Z"
   },
   {
    "duration": 16,
    "start_time": "2022-09-06T12:03:56.995Z"
   },
   {
    "duration": 12,
    "start_time": "2022-09-06T12:03:57.014Z"
   },
   {
    "duration": 7,
    "start_time": "2022-09-06T12:03:57.027Z"
   },
   {
    "duration": 6,
    "start_time": "2022-09-06T12:03:57.035Z"
   },
   {
    "duration": 8,
    "start_time": "2022-09-06T12:03:57.042Z"
   },
   {
    "duration": 7,
    "start_time": "2022-09-06T12:03:57.051Z"
   },
   {
    "duration": 6,
    "start_time": "2022-09-06T12:03:57.060Z"
   },
   {
    "duration": 7,
    "start_time": "2022-09-06T12:03:57.067Z"
   },
   {
    "duration": 7,
    "start_time": "2022-09-06T12:03:57.075Z"
   },
   {
    "duration": 10,
    "start_time": "2022-09-06T12:03:57.084Z"
   },
   {
    "duration": 6,
    "start_time": "2022-09-06T12:03:57.095Z"
   },
   {
    "duration": 7,
    "start_time": "2022-09-06T12:03:57.106Z"
   },
   {
    "duration": 10,
    "start_time": "2022-09-06T12:03:57.114Z"
   },
   {
    "duration": 6,
    "start_time": "2022-09-06T12:03:57.125Z"
   },
   {
    "duration": 10,
    "start_time": "2022-09-06T12:03:57.133Z"
   },
   {
    "duration": 10,
    "start_time": "2022-09-06T12:03:57.144Z"
   },
   {
    "duration": 12,
    "start_time": "2022-09-06T12:03:57.155Z"
   },
   {
    "duration": 8,
    "start_time": "2022-09-06T12:03:57.169Z"
   },
   {
    "duration": 11,
    "start_time": "2022-09-06T12:03:57.178Z"
   },
   {
    "duration": 7,
    "start_time": "2022-09-06T12:03:57.192Z"
   },
   {
    "duration": 9,
    "start_time": "2022-09-06T12:03:57.201Z"
   },
   {
    "duration": 75,
    "start_time": "2022-09-06T12:03:57.212Z"
   },
   {
    "duration": 0,
    "start_time": "2022-09-06T12:03:57.289Z"
   },
   {
    "duration": 0,
    "start_time": "2022-09-06T12:03:57.291Z"
   },
   {
    "duration": 0,
    "start_time": "2022-09-06T12:03:57.292Z"
   },
   {
    "duration": 0,
    "start_time": "2022-09-06T12:03:57.294Z"
   },
   {
    "duration": 0,
    "start_time": "2022-09-06T12:03:57.295Z"
   },
   {
    "duration": 0,
    "start_time": "2022-09-06T12:03:57.297Z"
   },
   {
    "duration": 0,
    "start_time": "2022-09-06T12:03:57.299Z"
   },
   {
    "duration": 0,
    "start_time": "2022-09-06T12:03:57.300Z"
   },
   {
    "duration": 21,
    "start_time": "2022-09-06T12:04:10.502Z"
   },
   {
    "duration": 3,
    "start_time": "2022-09-06T13:24:41.644Z"
   },
   {
    "duration": 13,
    "start_time": "2022-09-06T13:25:04.912Z"
   },
   {
    "duration": 4,
    "start_time": "2022-09-06T13:25:12.628Z"
   },
   {
    "duration": 3,
    "start_time": "2022-09-06T13:34:59.911Z"
   },
   {
    "duration": 27,
    "start_time": "2022-09-06T13:41:05.477Z"
   },
   {
    "duration": 27,
    "start_time": "2022-09-06T13:41:34.544Z"
   },
   {
    "duration": 24,
    "start_time": "2022-09-06T13:41:49.543Z"
   },
   {
    "duration": 11,
    "start_time": "2022-09-06T13:48:35.143Z"
   },
   {
    "duration": 24,
    "start_time": "2022-09-06T13:54:14.407Z"
   },
   {
    "duration": 18,
    "start_time": "2022-09-06T13:54:23.169Z"
   },
   {
    "duration": 25,
    "start_time": "2022-09-06T13:54:25.198Z"
   },
   {
    "duration": 71,
    "start_time": "2022-09-06T13:55:36.549Z"
   },
   {
    "duration": 82,
    "start_time": "2022-09-06T13:56:56.507Z"
   },
   {
    "duration": 60,
    "start_time": "2022-09-06T13:57:50.743Z"
   },
   {
    "duration": 68,
    "start_time": "2022-09-06T13:58:15.553Z"
   },
   {
    "duration": 60,
    "start_time": "2022-09-06T13:58:22.043Z"
   },
   {
    "duration": 100,
    "start_time": "2022-09-06T14:05:03.901Z"
   },
   {
    "duration": 39,
    "start_time": "2022-09-06T14:05:42.440Z"
   },
   {
    "duration": 10,
    "start_time": "2022-09-06T14:13:01.479Z"
   },
   {
    "duration": 40,
    "start_time": "2022-09-06T14:14:39.767Z"
   },
   {
    "duration": 6,
    "start_time": "2022-09-06T14:18:35.606Z"
   },
   {
    "duration": 3,
    "start_time": "2022-09-06T14:19:26.542Z"
   },
   {
    "duration": 4430,
    "start_time": "2022-09-06T14:19:44.797Z"
   },
   {
    "duration": 28,
    "start_time": "2022-09-06T14:20:24.879Z"
   },
   {
    "duration": 30,
    "start_time": "2022-09-06T14:20:58.549Z"
   },
   {
    "duration": 7,
    "start_time": "2022-09-06T14:21:22.171Z"
   },
   {
    "duration": 11,
    "start_time": "2022-09-06T14:21:29.731Z"
   },
   {
    "duration": 11,
    "start_time": "2022-09-06T14:33:13.324Z"
   },
   {
    "duration": 19,
    "start_time": "2022-09-06T17:17:21.454Z"
   },
   {
    "duration": 3,
    "start_time": "2022-09-06T17:20:19.116Z"
   },
   {
    "duration": 43,
    "start_time": "2022-09-06T17:23:00.989Z"
   },
   {
    "duration": 13,
    "start_time": "2022-09-06T17:27:11.855Z"
   },
   {
    "duration": 19,
    "start_time": "2022-09-06T17:29:03.365Z"
   },
   {
    "duration": 20,
    "start_time": "2022-09-06T17:29:19.281Z"
   },
   {
    "duration": 10,
    "start_time": "2022-09-06T17:29:20.942Z"
   },
   {
    "duration": 429,
    "start_time": "2022-09-06T17:29:31.377Z"
   },
   {
    "duration": 347,
    "start_time": "2022-09-06T17:29:32.935Z"
   },
   {
    "duration": 1121,
    "start_time": "2022-09-06T17:29:41.272Z"
   },
   {
    "duration": 877,
    "start_time": "2022-09-06T17:29:47.812Z"
   },
   {
    "duration": 949,
    "start_time": "2022-09-06T17:31:44.369Z"
   },
   {
    "duration": 401,
    "start_time": "2022-09-06T17:39:16.577Z"
   },
   {
    "duration": 157,
    "start_time": "2022-09-06T17:39:16.980Z"
   },
   {
    "duration": 8,
    "start_time": "2022-09-06T17:39:17.139Z"
   },
   {
    "duration": 34,
    "start_time": "2022-09-06T17:39:17.148Z"
   },
   {
    "duration": 2,
    "start_time": "2022-09-06T17:39:17.184Z"
   },
   {
    "duration": 10,
    "start_time": "2022-09-06T17:39:17.188Z"
   },
   {
    "duration": 15,
    "start_time": "2022-09-06T17:39:17.199Z"
   },
   {
    "duration": 7,
    "start_time": "2022-09-06T17:39:17.216Z"
   },
   {
    "duration": 50,
    "start_time": "2022-09-06T17:39:17.225Z"
   },
   {
    "duration": 39,
    "start_time": "2022-09-06T17:39:17.280Z"
   },
   {
    "duration": 21,
    "start_time": "2022-09-06T17:39:17.321Z"
   },
   {
    "duration": 69,
    "start_time": "2022-09-06T17:39:17.344Z"
   },
   {
    "duration": 80,
    "start_time": "2022-09-06T17:39:17.415Z"
   },
   {
    "duration": 70,
    "start_time": "2022-09-06T17:39:17.497Z"
   },
   {
    "duration": 38,
    "start_time": "2022-09-06T17:39:17.568Z"
   },
   {
    "duration": 11,
    "start_time": "2022-09-06T17:39:17.608Z"
   },
   {
    "duration": 64,
    "start_time": "2022-09-06T17:39:17.620Z"
   },
   {
    "duration": 12,
    "start_time": "2022-09-06T17:39:17.686Z"
   },
   {
    "duration": 13,
    "start_time": "2022-09-06T17:39:17.699Z"
   },
   {
    "duration": 6,
    "start_time": "2022-09-06T17:39:17.713Z"
   },
   {
    "duration": 55,
    "start_time": "2022-09-06T17:39:17.720Z"
   },
   {
    "duration": 14,
    "start_time": "2022-09-06T17:39:17.777Z"
   },
   {
    "duration": 14,
    "start_time": "2022-09-06T17:39:17.792Z"
   },
   {
    "duration": 20,
    "start_time": "2022-09-06T17:39:17.807Z"
   },
   {
    "duration": 41,
    "start_time": "2022-09-06T17:39:17.829Z"
   },
   {
    "duration": 14,
    "start_time": "2022-09-06T17:39:17.877Z"
   },
   {
    "duration": 82,
    "start_time": "2022-09-06T17:39:17.892Z"
   },
   {
    "duration": 0,
    "start_time": "2022-09-06T17:39:17.976Z"
   },
   {
    "duration": 0,
    "start_time": "2022-09-06T17:39:17.978Z"
   },
   {
    "duration": 0,
    "start_time": "2022-09-06T17:39:17.979Z"
   },
   {
    "duration": 0,
    "start_time": "2022-09-06T17:39:17.981Z"
   },
   {
    "duration": 0,
    "start_time": "2022-09-06T17:39:17.982Z"
   },
   {
    "duration": 0,
    "start_time": "2022-09-06T17:39:17.984Z"
   },
   {
    "duration": 0,
    "start_time": "2022-09-06T17:39:17.985Z"
   },
   {
    "duration": 0,
    "start_time": "2022-09-06T17:39:17.986Z"
   },
   {
    "duration": 0,
    "start_time": "2022-09-06T17:39:17.988Z"
   },
   {
    "duration": 0,
    "start_time": "2022-09-06T17:39:17.990Z"
   },
   {
    "duration": 0,
    "start_time": "2022-09-06T17:39:17.991Z"
   },
   {
    "duration": 57,
    "start_time": "2022-09-06T17:44:30.448Z"
   },
   {
    "duration": 892,
    "start_time": "2022-09-06T17:45:19.124Z"
   },
   {
    "duration": 60,
    "start_time": "2022-09-06T17:46:20.228Z"
   },
   {
    "duration": 1405,
    "start_time": "2022-09-06T17:46:48.526Z"
   },
   {
    "duration": 985,
    "start_time": "2022-09-06T17:47:06.634Z"
   },
   {
    "duration": 9,
    "start_time": "2022-09-06T17:48:11.142Z"
   },
   {
    "duration": 78,
    "start_time": "2022-09-06T17:48:28.587Z"
   },
   {
    "duration": 77,
    "start_time": "2022-09-06T17:48:42.542Z"
   },
   {
    "duration": 73,
    "start_time": "2022-09-06T17:52:15.787Z"
   },
   {
    "duration": 439,
    "start_time": "2022-09-06T17:52:25.257Z"
   },
   {
    "duration": 184,
    "start_time": "2022-09-06T17:52:25.698Z"
   },
   {
    "duration": 9,
    "start_time": "2022-09-06T17:52:25.884Z"
   },
   {
    "duration": 50,
    "start_time": "2022-09-06T17:52:25.896Z"
   },
   {
    "duration": 6,
    "start_time": "2022-09-06T17:52:25.948Z"
   },
   {
    "duration": 25,
    "start_time": "2022-09-06T17:52:25.955Z"
   },
   {
    "duration": 16,
    "start_time": "2022-09-06T17:52:25.981Z"
   },
   {
    "duration": 12,
    "start_time": "2022-09-06T17:52:25.998Z"
   },
   {
    "duration": 38,
    "start_time": "2022-09-06T17:52:26.012Z"
   },
   {
    "duration": 21,
    "start_time": "2022-09-06T17:52:26.052Z"
   },
   {
    "duration": 46,
    "start_time": "2022-09-06T17:52:26.074Z"
   },
   {
    "duration": 74,
    "start_time": "2022-09-06T17:52:26.123Z"
   },
   {
    "duration": 82,
    "start_time": "2022-09-06T17:52:26.198Z"
   },
   {
    "duration": 61,
    "start_time": "2022-09-06T17:52:26.282Z"
   },
   {
    "duration": 47,
    "start_time": "2022-09-06T17:52:26.344Z"
   },
   {
    "duration": 9,
    "start_time": "2022-09-06T17:52:26.393Z"
   },
   {
    "duration": 34,
    "start_time": "2022-09-06T17:52:26.403Z"
   },
   {
    "duration": 28,
    "start_time": "2022-09-06T17:52:26.439Z"
   },
   {
    "duration": 10,
    "start_time": "2022-09-06T17:52:26.472Z"
   },
   {
    "duration": 16,
    "start_time": "2022-09-06T17:52:26.483Z"
   },
   {
    "duration": 27,
    "start_time": "2022-09-06T17:52:26.501Z"
   },
   {
    "duration": 14,
    "start_time": "2022-09-06T17:52:26.530Z"
   },
   {
    "duration": 31,
    "start_time": "2022-09-06T17:52:26.545Z"
   },
   {
    "duration": 13,
    "start_time": "2022-09-06T17:52:26.578Z"
   },
   {
    "duration": 23,
    "start_time": "2022-09-06T17:52:26.593Z"
   },
   {
    "duration": 14,
    "start_time": "2022-09-06T17:52:26.618Z"
   },
   {
    "duration": 148,
    "start_time": "2022-09-06T17:52:26.633Z"
   },
   {
    "duration": 0,
    "start_time": "2022-09-06T17:52:26.783Z"
   },
   {
    "duration": 0,
    "start_time": "2022-09-06T17:52:26.784Z"
   },
   {
    "duration": 0,
    "start_time": "2022-09-06T17:52:26.786Z"
   },
   {
    "duration": 0,
    "start_time": "2022-09-06T17:52:26.787Z"
   },
   {
    "duration": 0,
    "start_time": "2022-09-06T17:52:26.788Z"
   },
   {
    "duration": 0,
    "start_time": "2022-09-06T17:52:26.790Z"
   },
   {
    "duration": 0,
    "start_time": "2022-09-06T17:52:26.791Z"
   },
   {
    "duration": 0,
    "start_time": "2022-09-06T17:52:26.793Z"
   },
   {
    "duration": 0,
    "start_time": "2022-09-06T17:52:26.794Z"
   },
   {
    "duration": 0,
    "start_time": "2022-09-06T17:52:26.796Z"
   },
   {
    "duration": 0,
    "start_time": "2022-09-06T17:52:26.797Z"
   },
   {
    "duration": 8,
    "start_time": "2022-09-06T17:58:08.986Z"
   },
   {
    "duration": 76,
    "start_time": "2022-09-06T17:58:23.025Z"
   },
   {
    "duration": 70,
    "start_time": "2022-09-06T18:02:30.082Z"
   },
   {
    "duration": 76,
    "start_time": "2022-09-06T18:02:51.434Z"
   },
   {
    "duration": 88,
    "start_time": "2022-09-06T18:02:58.989Z"
   },
   {
    "duration": 74,
    "start_time": "2022-09-06T18:03:59.206Z"
   },
   {
    "duration": 73,
    "start_time": "2022-09-06T18:04:37.478Z"
   },
   {
    "duration": 92,
    "start_time": "2022-09-06T18:05:00.138Z"
   },
   {
    "duration": 84,
    "start_time": "2022-09-06T18:05:29.115Z"
   },
   {
    "duration": 74,
    "start_time": "2022-09-06T18:12:39.926Z"
   },
   {
    "duration": 77,
    "start_time": "2022-09-06T18:13:30.479Z"
   },
   {
    "duration": 12,
    "start_time": "2022-09-06T18:37:03.614Z"
   },
   {
    "duration": 12,
    "start_time": "2022-09-06T18:37:05.326Z"
   },
   {
    "duration": 49,
    "start_time": "2022-09-06T19:01:39.005Z"
   },
   {
    "duration": 4,
    "start_time": "2022-09-06T19:01:53.750Z"
   },
   {
    "duration": 22,
    "start_time": "2022-09-06T19:04:12.246Z"
   },
   {
    "duration": 14,
    "start_time": "2022-09-06T19:05:40.237Z"
   },
   {
    "duration": 17,
    "start_time": "2022-09-06T19:05:43.792Z"
   },
   {
    "duration": 17,
    "start_time": "2022-09-06T19:05:47.494Z"
   },
   {
    "duration": 444,
    "start_time": "2022-09-06T19:06:09.438Z"
   },
   {
    "duration": 179,
    "start_time": "2022-09-06T19:06:09.885Z"
   },
   {
    "duration": 11,
    "start_time": "2022-09-06T19:06:10.066Z"
   },
   {
    "duration": 42,
    "start_time": "2022-09-06T19:06:10.080Z"
   },
   {
    "duration": 7,
    "start_time": "2022-09-06T19:06:10.124Z"
   },
   {
    "duration": 13,
    "start_time": "2022-09-06T19:06:10.133Z"
   },
   {
    "duration": 26,
    "start_time": "2022-09-06T19:06:10.147Z"
   },
   {
    "duration": 14,
    "start_time": "2022-09-06T19:06:10.175Z"
   },
   {
    "duration": 32,
    "start_time": "2022-09-06T19:06:10.191Z"
   },
   {
    "duration": 35,
    "start_time": "2022-09-06T19:06:10.227Z"
   },
   {
    "duration": 32,
    "start_time": "2022-09-06T19:06:10.266Z"
   },
   {
    "duration": 92,
    "start_time": "2022-09-06T19:06:10.301Z"
   },
   {
    "duration": 96,
    "start_time": "2022-09-06T19:06:10.396Z"
   },
   {
    "duration": 90,
    "start_time": "2022-09-06T19:06:10.494Z"
   },
   {
    "duration": 55,
    "start_time": "2022-09-06T19:06:10.586Z"
   },
   {
    "duration": 24,
    "start_time": "2022-09-06T19:06:10.643Z"
   },
   {
    "duration": 40,
    "start_time": "2022-09-06T19:06:10.676Z"
   },
   {
    "duration": 12,
    "start_time": "2022-09-06T19:06:10.718Z"
   },
   {
    "duration": 29,
    "start_time": "2022-09-06T19:06:10.732Z"
   },
   {
    "duration": 7,
    "start_time": "2022-09-06T19:06:10.762Z"
   },
   {
    "duration": 35,
    "start_time": "2022-09-06T19:06:10.770Z"
   },
   {
    "duration": 20,
    "start_time": "2022-09-06T19:06:10.806Z"
   },
   {
    "duration": 19,
    "start_time": "2022-09-06T19:06:10.828Z"
   },
   {
    "duration": 22,
    "start_time": "2022-09-06T19:06:10.860Z"
   },
   {
    "duration": 19,
    "start_time": "2022-09-06T19:06:10.884Z"
   },
   {
    "duration": 15,
    "start_time": "2022-09-06T19:06:10.904Z"
   },
   {
    "duration": 93,
    "start_time": "2022-09-06T19:06:10.920Z"
   },
   {
    "duration": 11,
    "start_time": "2022-09-06T19:06:11.016Z"
   },
   {
    "duration": 10,
    "start_time": "2022-09-06T19:06:11.028Z"
   },
   {
    "duration": 26,
    "start_time": "2022-09-06T19:06:11.040Z"
   },
   {
    "duration": 34,
    "start_time": "2022-09-06T19:06:11.072Z"
   },
   {
    "duration": 14,
    "start_time": "2022-09-06T19:06:11.108Z"
   },
   {
    "duration": 18,
    "start_time": "2022-09-06T19:06:11.123Z"
   },
   {
    "duration": 26,
    "start_time": "2022-09-06T19:06:11.142Z"
   },
   {
    "duration": 12,
    "start_time": "2022-09-06T19:06:11.171Z"
   },
   {
    "duration": 9,
    "start_time": "2022-09-06T19:06:11.184Z"
   },
   {
    "duration": 7,
    "start_time": "2022-09-06T19:06:11.194Z"
   },
   {
    "duration": 7,
    "start_time": "2022-09-06T19:06:11.203Z"
   },
   {
    "duration": 20,
    "start_time": "2022-09-06T19:06:34.279Z"
   },
   {
    "duration": 14,
    "start_time": "2022-09-06T19:06:38.645Z"
   },
   {
    "duration": 20,
    "start_time": "2022-09-06T19:08:26.203Z"
   },
   {
    "duration": 16,
    "start_time": "2022-09-06T19:08:29.549Z"
   },
   {
    "duration": 9,
    "start_time": "2022-09-06T19:22:51.548Z"
   },
   {
    "duration": 5,
    "start_time": "2022-09-06T19:23:45.329Z"
   },
   {
    "duration": 4,
    "start_time": "2022-09-06T19:23:56.430Z"
   },
   {
    "duration": 8,
    "start_time": "2022-09-06T19:44:36.635Z"
   },
   {
    "duration": 8,
    "start_time": "2022-09-06T19:44:55.434Z"
   },
   {
    "duration": 5,
    "start_time": "2022-09-06T19:44:57.475Z"
   },
   {
    "duration": 12,
    "start_time": "2022-09-06T19:45:57.236Z"
   },
   {
    "duration": 8,
    "start_time": "2022-09-06T19:50:33.929Z"
   },
   {
    "duration": 7,
    "start_time": "2022-09-06T19:50:57.181Z"
   },
   {
    "duration": 4,
    "start_time": "2022-09-06T19:51:42.301Z"
   }
  ],
  "colab": {
   "collapsed_sections": [
    "dIaKXr29_Zct",
    "5ISfbcfY_Zct",
    "BWKRtBJ3_Zct",
    "Im936VVi_Zcu",
    "atZAxtq4_Zcu"
   ],
   "provenance": []
  },
  "kernelspec": {
   "display_name": "Python 3",
   "language": "python",
   "name": "python3"
  },
  "language_info": {
   "codemirror_mode": {
    "name": "ipython",
    "version": 3
   },
   "file_extension": ".py",
   "mimetype": "text/x-python",
   "name": "python",
   "nbconvert_exporter": "python",
   "pygments_lexer": "ipython3",
   "version": "3.8.8"
  },
  "toc": {
   "base_numbering": 1,
   "nav_menu": {
    "height": "215px",
    "width": "403px"
   },
   "number_sections": true,
   "sideBar": true,
   "skip_h1_title": true,
   "title_cell": "Table of Contents",
   "title_sidebar": "Contents",
   "toc_cell": false,
   "toc_position": {
    "height": "calc(100% - 180px)",
    "left": "10px",
    "top": "150px",
    "width": "285.825px"
   },
   "toc_section_display": true,
   "toc_window_display": false
  }
 },
 "nbformat": 4,
 "nbformat_minor": 1
}
